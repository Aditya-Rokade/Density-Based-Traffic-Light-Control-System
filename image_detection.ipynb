{
 "cells": [
  {
   "cell_type": "code",
   "execution_count": 2,
   "metadata": {},
   "outputs": [],
   "source": [
    "import torch \n",
    "from matplotlib import pyplot as plt \n",
    "import numpy as np \n",
    "import cv2\n",
    "from cvzone.SerialModule import SerialObject\n",
    "from time import sleep "
   ]
  },
  {
   "cell_type": "code",
   "execution_count": 3,
   "metadata": {},
   "outputs": [
    {
     "name": "stderr",
     "output_type": "stream",
     "text": [
      "Downloading: \"https://github.com/ultralytics/yolov5/archive/master.zip\" to C:\\Users\\Amey Shiwal/.cache\\torch\\hub\\master.zip\n",
      "YOLOv5  2022-6-3 Python-3.9.0 torch-1.8.2+cu111 CUDA:0 (NVIDIA GeForce GTX 1650 Ti, 4096MiB)\n",
      "\n",
      "Fusing layers... \n",
      "Model summary: 213 layers, 7026307 parameters, 0 gradients\n",
      "Adding AutoShape... \n"
     ]
    }
   ],
   "source": [
    "model = torch.hub.load('ultralytics/yolov5', 'custom', path='\"C:/Users/Amey Shiwal/YOLO/last.pt\"', force_reload=True)"
   ]
  },
  {
   "cell_type": "code",
   "execution_count": 4,
   "metadata": {},
   "outputs": [],
   "source": [
    "img1 = \"https://dz01iyojmxk8t.cloudfront.net/wp-content/uploads/2017/12/16225639/Highway1.jpg\"\n",
    "img2 = \"https://daily.jstor.org/wp-content/uploads/2017/12/traffic_jam_1050x700.jpg\"\n",
    "img3 = \"https://media.zigcdn.com/media/content/2019/Nov/wrapup_560x420.jpg\"\n",
    "img4 = \"https://cdn.autoportal.com/bp-v3/img/models/a5/4/honda-cb-shine-1464785913.jpg\""
   ]
  },
  {
   "cell_type": "code",
   "execution_count": 5,
   "metadata": {},
   "outputs": [
    {
     "name": "stdout",
     "output_type": "stream",
     "text": [
      "3 14 54 5\n"
     ]
    }
   ],
   "source": [
    "results1 = model(img4)\n",
    "results2 = model(img1)\n",
    "results3 = model(img2)\n",
    "results4 = model(img3)\n",
    "print(len(results1.pandas().xyxy[0]),len(results2.pandas().xyxy[0]),len(results3.pandas().xyxy[0]),len(results4.pandas().xyxy[0]))"
   ]
  },
  {
   "cell_type": "code",
   "execution_count": 6,
   "metadata": {},
   "outputs": [],
   "source": [
    "signalColor = {\n",
    "\"Signal1\":\"Green\",\n",
    "\"Signal2\":\"Red\",\n",
    "\"Signal3\":\"Red\",\n",
    "\"Signal4\":\"Red\"}"
   ]
  },
  {
   "cell_type": "code",
   "execution_count": 7,
   "metadata": {},
   "outputs": [],
   "source": [
    "Cam1 = len(results1.pandas().xyxy[0])\n",
    "Cam2 = len(results2.pandas().xyxy[0])\n",
    "Cam3 = len(results3.pandas().xyxy[0])\n",
    "Cam4 = len(results4.pandas().xyxy[0])"
   ]
  },
  {
   "cell_type": "code",
   "execution_count": 8,
   "metadata": {},
   "outputs": [
    {
     "name": "stdout",
     "output_type": "stream",
     "text": [
      "Serial Device Connected\n"
     ]
    }
   ],
   "source": [
    "ardunio = SerialObject('COM6')\n",
    "\n",
    "def greenSignal1():\n",
    "    ardunio.sendData([0,0,1,1,0,0,1,0,0,1,0,0])\n",
    "    sleep(5)\n",
    "    ardunio.sendData([0,1,0,1,0,0,1,0,0,1,0,0])\n",
    "    sleep(2)\n",
    "    ardunio.sendData([0,0,0,0,0,0,0,0,0,0,0,0])\n",
    "\n",
    "def greenSignal2():\n",
    "    ardunio.sendData([1,0,0,0,0,1,1,0,0,1,0,0])\n",
    "    sleep(5)\n",
    "    ardunio.sendData([1,0,0,0,1,0,1,0,0,1,0,0])\n",
    "    sleep(2)\n",
    "    ardunio.sendData([0,0,0,0,0,0,0,0,0,0,0,0])\n",
    "\n",
    "def greenSignal3():\n",
    "    ardunio.sendData([1,0,0,1,0,0,0,0,1,1,0,0])\n",
    "    sleep(5)\n",
    "    ardunio.sendData([1,0,0,1,0,0,0,1,0,1,0,0])\n",
    "    sleep(2)\n",
    "    ardunio.sendData([0,0,0,0,0,0,0,0,0,0,0,0])\n",
    "    \n",
    "def greenSignal4():\n",
    "    ardunio.sendData([1,0,0,1,0,0,1,0,0,0,0,1])\n",
    "    sleep(5)\n",
    "    ardunio.sendData([1,0,0,1,0,0,1,0,0,0,1,0])\n",
    "    sleep(2)\n",
    "    ardunio.sendData([0,0,0,0,0,0,0,0,0,0,0,0])\n",
    "\n",
    "\n",
    "def regular():\n",
    "    ardunio.sendData([0,0,1,1,0,0,1,0,0,1,0,0])\n",
    "    sleep(3)\n",
    "    ardunio.sendData([0,1,0,1,0,0,1,0,0,1,0,0]) \n",
    "    sleep(2)\n",
    "    ardunio.sendData([1,0,0,0,0,1,1,0,0,1,0,0])    \n",
    "    sleep(3)\n",
    "    ardunio.sendData([1,0,0,0,1,0,1,0,0,1,0,0])\n",
    "    sleep(2)\n",
    "    ardunio.sendData([1,0,0,1,0,0,0,0,1,1,0,0])  \n",
    "    sleep(3)\n",
    "    ardunio.sendData([1,0,0,1,0,0,0,1,0,1,0,0])\n",
    "    sleep(2)\n",
    "    ardunio.sendData([1,0,0,1,0,0,1,0,0,0,0,1])\n",
    "    sleep(3)\n",
    "    ardunio.sendData([1,0,0,1,0,0,1,0,0,0,1,0])\n",
    "    sleep(2)\n"
   ]
  },
  {
   "cell_type": "code",
   "execution_count": 20,
   "metadata": {},
   "outputs": [
    {
     "name": "stdout",
     "output_type": "stream",
     "text": [
      "{'Signal1': 'Red', 'Signal2': 'Red', 'Signal3': 'Green', 'Signal4': 'Red'}\n"
     ]
    }
   ],
   "source": [
    "for c in Cam1,Cam2,Cam3,Cam4:\n",
    "    if(Cam1 > Cam2 and Cam1 > Cam3 and Cam1 > Cam4):\n",
    "        print(signalColor)   \n",
    "        greenSignal1()\n",
    "        break\n",
    "\n",
    "    elif(Cam2 > Cam1 and Cam2 > Cam3 and Cam2 > Cam4):\n",
    "        signalColor[\"Signal1\"]=\"Red\"\n",
    "        signalColor[\"Signal2\"]=\"Green\"\n",
    "        greenSignal2()\n",
    "        print(signalColor)    \n",
    "        break\n",
    "\n",
    "    elif(Cam3 > Cam2 and Cam3 > Cam2 and Cam3 > Cam4):\n",
    "        signalColor[\"Signal1\"]=\"Red\"\n",
    "        signalColor[\"Signal3\"]=\"Green\"\n",
    "        greenSignal3() \n",
    "        regular()  \n",
    "        print(signalColor) \n",
    "        break\n",
    "\n",
    "    elif(Cam4 > Cam2 and Cam4 > Cam2 and Cam4 > Cam1):\n",
    "        signalColor[\"Signal1\"]=\"Red\"\n",
    "        signalColor[\"Signal4\"]=\"Green\"\n",
    "        print(signalColor)\n",
    "        greenSignal4()\n",
    "        break\n"
   ]
  },
  {
   "cell_type": "code",
   "execution_count": 21,
   "metadata": {},
   "outputs": [
    {
     "data": {
      "text/plain": [
       "True"
      ]
     },
     "execution_count": 21,
     "metadata": {},
     "output_type": "execute_result"
    }
   ],
   "source": [
    "ardunio.sendData([0,0,0,0,0,0,0,0,0,0,0,0])"
   ]
  },
  {
   "cell_type": "code",
   "execution_count": 18,
   "metadata": {},
   "outputs": [
    {
     "data": {
      "text/plain": [
       "True"
      ]
     },
     "execution_count": 18,
     "metadata": {},
     "output_type": "execute_result"
    }
   ],
   "source": [
    "ardunio.sendData([1,1,1,1,1,1,1,1,1,1,1,1])"
   ]
  },
  {
   "cell_type": "code",
   "execution_count": null,
   "metadata": {},
   "outputs": [],
   "source": []
  }
 ],
 "metadata": {
  "interpreter": {
   "hash": "1a8a93e6772ac1ddfc321a93129e776d1ce63b1ff5497690b7afa86bcb79a2f8"
  },
  "kernelspec": {
   "display_name": "Python 3.9.0 64-bit",
   "language": "python",
   "name": "python3"
  },
  "language_info": {
   "codemirror_mode": {
    "name": "ipython",
    "version": 3
   },
   "file_extension": ".py",
   "mimetype": "text/x-python",
   "name": "python",
   "nbconvert_exporter": "python",
   "pygments_lexer": "ipython3",
   "version": "3.9.0"
  },
  "orig_nbformat": 4
 },
 "nbformat": 4,
 "nbformat_minor": 2
}
